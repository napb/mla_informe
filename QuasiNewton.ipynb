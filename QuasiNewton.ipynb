{
 "cells": [
  {
   "cell_type": "code",
   "execution_count": 8,
   "metadata": {
    "collapsed": true
   },
   "outputs": [],
   "source": [
    "import numpy as np\n",
    "import matplotlib.pyplot as plt"
   ]
  },
  {
   "cell_type": "code",
   "execution_count": 9,
   "outputs": [],
   "source": [
    "# X de inicio en el punto cartesiano\n",
    "x_start = [-3.0, 2.0]"
   ],
   "metadata": {
    "collapsed": false,
    "pycharm": {
     "name": "#%%\n"
    }
   }
  },
  {
   "cell_type": "code",
   "execution_count": 10,
   "outputs": [],
   "source": [
    "# Gradiente objetivo\n",
    "def dfdx(x):\n",
    "    x1 = x[0]\n",
    "    x2 = x[1]\n",
    "    grad = []\n",
    "    grad.append(2.0 * x1 - 2.0 * x2)\n",
    "    grad.append(-2.0 * x1 + 8.0 * x2)\n",
    "    return grad"
   ],
   "metadata": {
    "collapsed": false,
    "pycharm": {
     "name": "#%%\n"
    }
   }
  },
  {
   "cell_type": "code",
   "execution_count": 11,
   "outputs": [
    {
     "data": {
      "text/plain": "<Figure size 432x288 with 1 Axes>",
      "image/png": "[encoded data removed]"
     },
     "metadata": {
      "needs_background": "light"
     },
     "output_type": "display_data"
    }
   ],
   "source": [
    "n = 8\n",
    "alpha = np.linspace(0.1,1.0,n)\n",
    "\n",
    "delta_xq = np.zeros((2,1))\n",
    "gamma = np.zeros((2,1))\n",
    "part1 = np.zeros((2,2))\n",
    "part2 = np.zeros((2,2))\n",
    "part3 = np.zeros((2,2))\n",
    "part4 = np.zeros((2,2))\n",
    "part5 = np.zeros((2,2))\n",
    "part6 = np.zeros((2,1))\n",
    "part7 = np.zeros((1,1))\n",
    "part8 = np.zeros((2,2))\n",
    "part9 = np.zeros((2,2))\n",
    "\n",
    "xq = np.zeros((n+1,2))\n",
    "xq[0] = x_start\n",
    "\n",
    "g = np.zeros((n+1,2))\n",
    "g[0] = dfdx(xq[0])\n",
    "\n",
    "h = np.zeros((n+1,2,2))\n",
    "h[0] = [[1, 0.0],[0.0, 1]]\n",
    "for i in range(n):\n",
    "\n",
    "    delta_xq = -np.dot(alpha[i],np.linalg.solve(h[i],g[i]))\n",
    "    xq[i+1] = xq[i] + delta_xq\n",
    "\n",
    "    g[i+1] = dfdx(xq[i+1])\n",
    "\n",
    "    gamma = g[i+1]-g[i]\n",
    "    part1 = np.outer(gamma,gamma)\n",
    "    part2 = np.outer(gamma,delta_xq)\n",
    "    part3 = np.dot(np.linalg.pinv(part2),part1)\n",
    "\n",
    "    part4 = np.outer(delta_xq,delta_xq)\n",
    "    part5 = np.dot(h[i],part4)\n",
    "    part6 = np.dot(part5,h[i])\n",
    "    part7 = np.dot(delta_xq,h[i])\n",
    "    part8 = np.dot(part7,delta_xq)\n",
    "    part9 = np.dot(part6,1/part8)\n",
    "\n",
    "    h[i+1] = h[i] + part3 - part9\n",
    "\n",
    "plt.plot(xq[:,0],xq[:,1],'r-o')\n",
    "\n",
    "\n",
    "plt.show()"
   ],
   "metadata": {
    "collapsed": false,
    "pycharm": {
     "name": "#%%\n"
    }
   }
  }
 ],
 "metadata": {
  "kernelspec": {
   "display_name": "Python 3",
   "language": "python",
   "name": "python3"
  },
  "language_info": {
   "codemirror_mode": {
    "name": "ipython",
    "version": 2
   },
   "file_extension": ".py",
   "mimetype": "text/x-python",
   "name": "python",
   "nbconvert_exporter": "python",
   "pygments_lexer": "ipython2",
   "version": "2.7.6"
  }
 },
 "nbformat": 4,
 "nbformat_minor": 0
}