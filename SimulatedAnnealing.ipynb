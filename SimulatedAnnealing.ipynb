{
 "cells": [
  {
   "cell_type": "code",
   "execution_count": 13,
   "outputs": [],
   "source": [
    "from numpy import asarray\n",
    "from numpy import exp\n",
    "from numpy.random import randn\n",
    "from numpy.random import rand\n",
    "from numpy.random import seed\n",
    "from matplotlib import pyplot"
   ],
   "metadata": {
    "collapsed": false,
    "pycharm": {
     "name": "#%%\n"
    }
   }
  },
  {
   "cell_type": "code",
   "execution_count": 14,
   "outputs": [],
   "source": [
    "def simulated_annealing(objective, bounds, n_iterations, step_size, temp):\n",
    "\tbest = bounds[:, 0] + rand(len(bounds)) * (bounds[:, 1] - bounds[:, 0])\n",
    "\tbest_eval = objective(best)\n",
    "\tcurr, curr_eval = best, best_eval\n",
    "\tscores = list()\n",
    "\n",
    "\tfor i in range(n_iterations):\n",
    "\t\tcandidate = curr + randn(len(bounds)) * step_size\n",
    "\t\tcandidate_eval = objective(candidate)\n",
    "\n",
    "\t\tif candidate_eval < best_eval:\n",
    "\t\t\t# Nuevo mejor punto\n",
    "\t\t\tbest, best_eval = candidate, candidate_eval\n",
    "\n",
    "\t\t\t#Nuevo valor dentro del array de puntajes\n",
    "\t\t\tscores.append(best_eval)\n",
    "\t\t\t# Progreso por cada iteracion correcta\n",
    "\t\t\tprint('>%d f(%s) = %.5f' % (i, best, best_eval))\n",
    "\n",
    "\t\t#Diferencia entre el punto candidato y el punto de evaluacion\n",
    "\t\tdiff = candidate_eval - curr_eval\n",
    "\n",
    "\t\t#'Temperatura' para la epoca en curso\n",
    "\t\tt = temp / float(i + 1)\n",
    "\n",
    "\t\t#Criterio de aceptacion\n",
    "\t\tmetropolis = exp(-diff / t)\n",
    "\n",
    "\t\t#Verifica si mantiene o no el nuevo punto encontrado\n",
    "\t\tif diff < 0 or rand() < metropolis:\n",
    "\t\t\t#En caso de ser verdadero el predicado anterior, se setea el nuevo punto\n",
    "\t\t\tcurr, curr_eval = candidate, candidate_eval\n",
    "\n",
    "\treturn [best, best_eval, scores]"
   ],
   "metadata": {
    "collapsed": false,
    "pycharm": {
     "name": "#%%\n"
    }
   }
  },
  {
   "cell_type": "code",
   "execution_count": 15,
   "outputs": [],
   "source": [
    "#Funcion objetivo\n",
    "def objective(x):\n",
    "\treturn x[0]**2.0"
   ],
   "metadata": {
    "collapsed": false,
    "pycharm": {
     "name": "#%%\n"
    }
   }
  },
  {
   "cell_type": "code",
   "execution_count": 16,
   "outputs": [
    {
     "name": "stdout",
     "output_type": "stream",
     "text": [
      ">34 f([-0.78753544]) = 0.62021\n",
      ">35 f([-0.76914239]) = 0.59158\n",
      ">37 f([-0.68574854]) = 0.47025\n",
      ">39 f([-0.64797564]) = 0.41987\n",
      ">40 f([-0.58914623]) = 0.34709\n",
      ">41 f([-0.55446029]) = 0.30743\n",
      ">42 f([-0.41775702]) = 0.17452\n",
      ">43 f([-0.35038542]) = 0.12277\n",
      ">50 f([-0.15799045]) = 0.02496\n",
      ">66 f([-0.11089772]) = 0.01230\n",
      ">67 f([-0.09238208]) = 0.00853\n",
      ">72 f([-0.09145261]) = 0.00836\n",
      ">75 f([-0.05129162]) = 0.00263\n",
      ">93 f([-0.02854417]) = 0.00081\n",
      ">144 f([0.00864136]) = 0.00007\n",
      ">149 f([0.00753953]) = 0.00006\n",
      ">167 f([-0.00640394]) = 0.00004\n",
      ">225 f([-0.00044965]) = 0.00000\n",
      ">503 f([-0.00036261]) = 0.00000\n",
      ">512 f([0.00013605]) = 0.00000\n"
     ]
    }
   ],
   "source": [
    "seed(1)\n",
    "\n",
    "bounds = asarray([[-5.0, 5.0]])\n",
    "\n",
    "#Iteraciones\n",
    "n_iterations = 1000\n",
    "\n",
    "# Largo de cada paso\n",
    "step_size = 0.1\n",
    "\n",
    "#'Temperatura' inicial\n",
    "temp = 10\n",
    "\n",
    "best, score, scores = simulated_annealing(\n",
    "\tobjective,\n",
    "\tasarray([[-5.0, 5.0]]), # Input array inicial\n",
    "\t1000, #Numero de iteraciones\n",
    "\t0.1, # Largo de cada paso\n",
    "\t10 #'Temperatura' inicial\n",
    ")"
   ],
   "metadata": {
    "collapsed": false,
    "pycharm": {
     "name": "#%%\n"
    }
   }
  },
  {
   "cell_type": "code",
   "execution_count": 17,
   "outputs": [
    {
     "name": "stdout",
     "output_type": "stream",
     "text": [
      "--------------------\n",
      "Valor de la funcion\n",
      "f([0.00013605]) = 0.000000\n",
      "--------------------\n"
     ]
    }
   ],
   "source": [
    "print('--------------------')\n",
    "print('Valor de la funcion')\n",
    "print('f(%s) = %f' % (best, score))\n",
    "print('--------------------')"
   ],
   "metadata": {
    "collapsed": false,
    "pycharm": {
     "name": "#%%\n"
    }
   }
  },
  {
   "cell_type": "code",
   "execution_count": 18,
   "outputs": [
    {
     "data": {
      "text/plain": "<Figure size 432x288 with 1 Axes>",
      "image/png": "[encoded data removed]"
     },
     "metadata": {
      "needs_background": "light"
     },
     "output_type": "display_data"
    }
   ],
   "source": [
    "pyplot.plot(scores, '.-')\n",
    "pyplot.xlabel('Mejoras')\n",
    "pyplot.ylabel('Evaluacion de funcion f(x)')\n",
    "pyplot.show()"
   ],
   "metadata": {
    "collapsed": false,
    "pycharm": {
     "name": "#%%\n"
    }
   }
  }
 ],
 "metadata": {
  "kernelspec": {
   "display_name": "Python 3",
   "language": "python",
   "name": "python3"
  },
  "language_info": {
   "codemirror_mode": {
    "name": "ipython",
    "version": 2
   },
   "file_extension": ".py",
   "mimetype": "text/x-python",
   "name": "python",
   "nbconvert_exporter": "python",
   "pygments_lexer": "ipython2",
   "version": "2.7.6"
  }
 },
 "nbformat": 4,
 "nbformat_minor": 0
}