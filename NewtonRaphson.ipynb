{
 "cells": [
  {
   "cell_type": "code",
   "execution_count": 4,
   "outputs": [],
   "source": [
    "import numpy as np\n",
    "from sympy import *"
   ],
   "metadata": {
    "collapsed": false,
    "pycharm": {
     "name": "#%%\n"
    }
   }
  },
  {
   "cell_type": "code",
   "execution_count": 5,
   "outputs": [
    {
     "data": {
      "text/plain": "2*x - 4",
      "text/latex": "$\\displaystyle 2 x - 4$"
     },
     "execution_count": 5,
     "metadata": {},
     "output_type": "execute_result"
    }
   ],
   "source": [
    "# variable\n",
    "x = symbols('x')\n",
    "\n",
    "# funcion a verificar\n",
    "f = x**2 - 4 * x-5\n",
    "\n",
    "#primera derivada\n",
    "funcion_derivada = f.diff(x)\n",
    "funcion_derivada"
   ],
   "metadata": {
    "collapsed": false,
    "pycharm": {
     "name": "#%%\n"
    }
   }
  },
  {
   "cell_type": "code",
   "execution_count": 6,
   "outputs": [
    {
     "name": "stdout",
     "output_type": "stream",
     "text": [
      "La 1 iteracion xn es -3.0 y la funcion f(xn) es 1.6e+01\n",
      "La 2 iteracion xn es -1.4 y la funcion f(xn) es 2.6\n",
      "La 3 iteracion xn es -1.0 y la funcion f(xn) es 0.14\n",
      "La 4 iteracion xn es -1.0 y la funcion f(xn) es 0.00055\n",
      "La 5 iteracion xn es -1.0 y la funcion f(xn) es 8.4e-09\n",
      "La 6 iteracion xn es -1.0 y la funcion f(xn) es 9.5e-125\n",
      "La 7 iteracion xn es -1.0 y la funcion f(xn) es 9.5e-125\n",
      "La 8 iteracion xn es -1.0 y la funcion f(xn) es 9.5e-125\n",
      "La 9 iteracion xn es -1.0 y la funcion f(xn) es 9.5e-125\n",
      "La 10 iteracion xn es -1.0 y la funcion f(xn) es 9.5e-125\n"
     ]
    },
    {
     "name": "stderr",
     "output_type": "stream",
     "text": [
      "/var/folders/ws/sp1qfps14rj2wpf5_71gh44m0000gn/T/ipykernel_1065/2691767481.py:3: DeprecationWarning: `np.float` is a deprecated alias for the builtin `float`. To silence this warning, use `float` by itself. Doing this will not modify any behavior and is safe. If you specifically wanted the numpy scalar type, use `np.float64` here.\n",
      "Deprecated in NumPy 1.20; for more details and guidance: https://numpy.org/devdocs/release/1.20.0-notes.html#deprecations\n",
      "  xn = xn - np.float(f.evalf(subs= {x:xn})) / np.float(funcion_derivada.evalf(subs= {x:xn}))\n",
      "/var/folders/ws/sp1qfps14rj2wpf5_71gh44m0000gn/T/ipykernel_1065/2691767481.py:4: DeprecationWarning: `np.float` is a deprecated alias for the builtin `float`. To silence this warning, use `float` by itself. Doing this will not modify any behavior and is safe. If you specifically wanted the numpy scalar type, use `np.float64` here.\n",
      "Deprecated in NumPy 1.20; for more details and guidance: https://numpy.org/devdocs/release/1.20.0-notes.html#deprecations\n",
      "  print(f'La {i+1} iteracion xn es {xn:.2} y la funcion f(xn) es {np.float(f.evalf(subs= {x:xn})):.2}')\n"
     ]
    }
   ],
   "source": [
    "xn = 1\n",
    "for i in range(10):\n",
    "    xn = xn - np.float(f.evalf(subs= {x:xn})) / np.float(funcion_derivada.evalf(subs= {x:xn}))\n",
    "    print(f'La {i+1} iteracion xn es {xn:.2} y la funcion f(xn) es {np.float(f.evalf(subs= {x:xn})):.2}')"
   ],
   "metadata": {
    "collapsed": false,
    "pycharm": {
     "name": "#%%\n"
    }
   }
  }
 ],
 "metadata": {
  "kernelspec": {
   "display_name": "Python 3",
   "language": "python",
   "name": "python3"
  },
  "language_info": {
   "codemirror_mode": {
    "name": "ipython",
    "version": 2
   },
   "file_extension": ".py",
   "mimetype": "text/x-python",
   "name": "python",
   "nbconvert_exporter": "python",
   "pygments_lexer": "ipython2",
   "version": "2.7.6"
  }
 },
 "nbformat": 4,
 "nbformat_minor": 0
}