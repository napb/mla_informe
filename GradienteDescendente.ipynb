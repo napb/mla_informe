{
 "cells": [
  {
   "cell_type": "code",
   "execution_count": 3,
   "outputs": [],
   "source": [
    "import numpy as np"
   ],
   "metadata": {
    "collapsed": false,
    "pycharm": {
     "name": "#%%\n"
    }
   }
  },
  {
   "cell_type": "code",
   "execution_count": 4,
   "outputs": [],
   "source": [
    "trX = np.linspace(-2, 2, 101)\n",
    "trY = 3 + 2 * trX + np.random.randn(*trX.shape) * 0.33\n",
    "\n",
    "numero_pasos = 100\n",
    "tasa_aprendizaje = 0.10\n",
    "criteria = 1e-8\n",
    "\n",
    "b_0 = 1\n",
    "b_1 = 1"
   ],
   "metadata": {
    "collapsed": false,
    "pycharm": {
     "name": "#%%\n"
    }
   }
  },
  {
   "cell_type": "code",
   "execution_count": 5,
   "outputs": [
    {
     "name": "stdout",
     "output_type": "stream",
     "text": [
      "3.003508205042644 2.04180613227182 en pasos 79\n"
     ]
    }
   ],
   "source": [
    "\n",
    "for iteracion in range(0, numero_pasos):\n",
    "    b_0_gradient = 0\n",
    "    b_1_gradient = 0\n",
    "    N = float(len(trX))\n",
    "\n",
    "    for i in range(0, len(trX)):\n",
    "        b_0_gradient -= (2/N) * (trY[i] - (b_0 + b_1 * trX[i]))\n",
    "        b_1_gradient -= (2/N) * (trY[i] - (b_0 + b_1 * trX[i])) * trX[i]\n",
    "\n",
    "    b_0 = b_0 - (tasa_aprendizaje * b_0_gradient)\n",
    "    b_1 = b_1 - (tasa_aprendizaje * b_1_gradient)\n",
    "    if max(abs(tasa_aprendizaje * b_0_gradient), abs(tasa_aprendizaje * b_1_gradient)) < criteria:\n",
    "        break\n",
    "\n",
    "# Impresión de los resultados\n",
    "print(b_0, b_1, \"en pasos\", iteracion)"
   ],
   "metadata": {
    "collapsed": false,
    "pycharm": {
     "name": "#%%\n"
    }
   }
  },
  {
   "cell_type": "code",
   "execution_count": null,
   "outputs": [],
   "source": [],
   "metadata": {
    "collapsed": false,
    "pycharm": {
     "name": "#%%\n"
    }
   }
  }
 ],
 "metadata": {
  "kernelspec": {
   "display_name": "Python 3",
   "language": "python",
   "name": "python3"
  },
  "language_info": {
   "codemirror_mode": {
    "name": "ipython",
    "version": 2
   },
   "file_extension": ".py",
   "mimetype": "text/x-python",
   "name": "python",
   "nbconvert_exporter": "python",
   "pygments_lexer": "ipython2",
   "version": "2.7.6"
  }
 },
 "nbformat": 4,
 "nbformat_minor": 0
}