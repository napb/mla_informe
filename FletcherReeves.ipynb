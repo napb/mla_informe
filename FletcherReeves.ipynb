{
 "cells": [
  {
   "cell_type": "code",
   "execution_count": 4,
   "metadata": {
    "collapsed": true
   },
   "outputs": [],
   "source": [
    "import numpy as np"
   ]
  },
  {
   "cell_type": "code",
   "execution_count": 5,
   "outputs": [
    {
     "name": "stdout",
     "output_type": "stream",
     "text": [
      "Numpy calculation results in ：\n",
      "[1. 1. 1. 1. 1. 1. 1. 1. 1. 1. 1. 1. 1. 1. 1. 1. 1. 1. 1. 1. 1. 1. 1. 1.\n",
      " 1. 1. 1. 1. 1. 1. 1. 1. 1. 1. 1. 1. 1. 1. 1. 1. 1. 1. 1. 1. 1. 1. 1. 1.\n",
      " 1. 1. 1. 1. 1. 1. 1. 1. 1. 1. 1. 1. 1. 1. 1. 1. 1. 1. 1. 1. 1. 1. 1. 1.\n",
      " 1. 1. 1. 1. 1. 1. 1. 1. 1. 1. 1. 1. 1. 1. 1. 1. 1. 1. 1. 1. 1. 1. 1. 1.\n",
      " 1. 1. 1. 1.]\n",
      " the first %d secondary iteration ： 1\n",
      " the first %d secondary iteration ： 2\n",
      " the first %d secondary iteration ： 3\n",
      " the first %d secondary iteration ： 4\n",
      " the first %d secondary iteration ： 5\n",
      " the first %d secondary iteration ： 6\n",
      " the first %d secondary iteration ： 7\n",
      " the first %d secondary iteration ： 8\n",
      " the first %d secondary iteration ： 9\n",
      " the first %d secondary iteration ： 10\n",
      " the first %d secondary iteration ： 11\n",
      " the first %d secondary iteration ： 12\n",
      " the first %d secondary iteration ： 13\n",
      " the first %d secondary iteration ： 14\n",
      " the first %d secondary iteration ： 15\n",
      " the first %d secondary iteration ： 16\n",
      " the first %d secondary iteration ： 17\n",
      " the first %d secondary iteration ： 18\n",
      " the first %d secondary iteration ： 19\n",
      " the first %d secondary iteration ： 20\n",
      " the first %d secondary iteration ： 21\n",
      " the first %d secondary iteration ： 22\n",
      " the first %d secondary iteration ： 23\n",
      " the first %d secondary iteration ： 24\n",
      " the first %d secondary iteration ： 25\n",
      " the first %d secondary iteration ： 26\n",
      " the first %d secondary iteration ： 27\n",
      " the first %d secondary iteration ： 28\n",
      " the first %d secondary iteration ： 29\n",
      " the first %d secondary iteration ： 30\n",
      " the first %d secondary iteration ： 31\n",
      " the first %d secondary iteration ： 32\n",
      " the first %d secondary iteration ： 33\n",
      " the first %d secondary iteration ： 34\n",
      " the first %d secondary iteration ： 35\n",
      " the first %d secondary iteration ： 36\n",
      " the first %d secondary iteration ： 37\n",
      " the first %d secondary iteration ： 38\n",
      " the first %d secondary iteration ： 39\n",
      " the first %d secondary iteration ： 40\n",
      " the first %d secondary iteration ： 41\n",
      " the first %d secondary iteration ： 42\n",
      " the first %d secondary iteration ： 43\n",
      " the first %d secondary iteration ： 44\n",
      " the first %d secondary iteration ： 45\n",
      " the first %d secondary iteration ： 46\n",
      " the first %d secondary iteration ： 47\n",
      " the first %d secondary iteration ： 48\n",
      " the first %d secondary iteration ： 49\n",
      " the first %d secondary iteration ： 50\n",
      "[1. 1. 1. 1. 1. 1. 1. 1. 1. 1. 1. 1. 1. 1. 1. 1. 1. 1. 1. 1. 1. 1. 1. 1.\n",
      " 1. 1. 1. 1. 1. 1. 1. 1. 1. 1. 1. 1. 1. 1. 1. 1. 1. 1. 1. 1. 1. 1. 1. 1.\n",
      " 1. 1. 1. 1. 1. 1. 1. 1. 1. 1. 1. 1. 1. 1. 1. 1. 1. 1. 1. 1. 1. 1. 1. 1.\n",
      " 1. 1. 1. 1. 1. 1. 1. 1. 1. 1. 1. 1. 1. 1. 1. 1. 1. 1. 1. 1. 1. 1. 1. 1.\n",
      " 1. 1. 1. 1.]\n"
     ]
    }
   ],
   "source": [
    "# obtain the required n-order matrix A\n",
    "N = 100  # dimension of solution vector\n",
    "\n",
    "#N=200;\n",
    "#N=400;\n",
    "a0 = np.eye(N)  #a0 unit matrix of order n\n",
    "a1 = np.eye(N - 1)  #a1 is n -1 unit matrix of order\n",
    "a11 = np.diag(a1)  #a11 is the element of the unit matrix of a1\n",
    "a12 = np.diag(a11, 1)  #a12 is a method that puts the value of a11 on the upper layer of its diagonal matrix.   matrix\n",
    "A = a12.T + a12 + (-2) * a0  #A it's diagonal and its diagonal up and down. （ n th -1,n+1 diagonal ） matrix with elements\n",
    "# get matrix b\n",
    "b = np.zeros(N)\n",
    "b[0] = -1\n",
    "b[N - 1] = -1\n",
    "\n",
    "print('Numpy calculation results in ：')\n",
    "x = np.linalg.inv(A) @ b  # calculation result of library function\n",
    "print(x)\n",
    "x = np.zeros(N)  # iterative approximation vector\n",
    "eps = 0.0000001  # precision\n",
    "r = b - A @ x  #\n",
    "d = r\n",
    "for k in range(0, N):\n",
    "    print(' the first %d secondary iteration ：', (k + 1))\n",
    "    a = (np.linalg.norm(r) ** 2) / (d.T @ A @ d)\n",
    "    x = x + a * d\n",
    "    rr = b - A @ x  #rr=r(k+1)  residual error\n",
    "    if (np.linalg.norm(rr) <= eps) or (k == N - 1):\n",
    "        break\n",
    "    B = (np.linalg.norm(rr) ** 2) / (np.linalg.norm(r) ** 2)\n",
    "    d = rr + B * d\n",
    "    r = rr\n",
    "print(x)"
   ],
   "metadata": {
    "collapsed": false,
    "pycharm": {
     "name": "#%%\n"
    }
   }
  }
 ],
 "metadata": {
  "kernelspec": {
   "display_name": "Python 3",
   "language": "python",
   "name": "python3"
  },
  "language_info": {
   "codemirror_mode": {
    "name": "ipython",
    "version": 2
   },
   "file_extension": ".py",
   "mimetype": "text/x-python",
   "name": "python",
   "nbconvert_exporter": "python",
   "pygments_lexer": "ipython2",
   "version": "2.7.6"
  }
 },
 "nbformat": 4,
 "nbformat_minor": 0
}