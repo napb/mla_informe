{
 "cells": [
  {
   "cell_type": "code",
   "execution_count": 1,
   "metadata": {
    "collapsed": true
   },
   "outputs": [],
   "source": [
    "from numpy import *\n",
    "import numpy\n",
    "import numpy as np"
   ]
  },
  {
   "cell_type": "code",
   "execution_count": 2,
   "outputs": [],
   "source": [
    "def f(A, x, b):\n",
    "    return 0.5 * np.dot(np.dot(x, A), x) + np.dot(b, x)"
   ],
   "metadata": {
    "collapsed": false,
    "pycharm": {
     "name": "#%%\n"
    }
   }
  },
  {
   "cell_type": "code",
   "execution_count": 3,
   "outputs": [],
   "source": [
    "def  g(A, x, b):\n",
    "    return np.dot(A, x) + b"
   ],
   "metadata": {
    "collapsed": false,
    "pycharm": {
     "name": "#%%\n"
    }
   }
  },
  {
   "cell_type": "code",
   "execution_count": 4,
   "outputs": [
    {
     "name": "stdout",
     "output_type": "stream",
     "text": [
      "success\n",
      "         Current function value:  [0.09090909 0.63636364]\n",
      "         Iterations: 2\n",
      "         Function evaluations:  -0.6818181818181819\n",
      "         actual value x*:  [0.09090909 0.63636364]\n",
      "         actual function value f(x*):  -0.6818181818181818\n"
     ]
    }
   ],
   "source": [
    "def minimize_cg(A, b, x0, jac=None, gtol=1e-5, maxiter=None, disp=False):\n",
    "    if maxiter is None:\n",
    "        maxiter = len(x0) * 200\n",
    "\n",
    "    gfk = np.dot(A, x0) + b\n",
    "    k = 0\n",
    "    xk = x0\n",
    "    warnflag = 0\n",
    "    pk = -gfk\n",
    "\n",
    "    gnorm = numpy.amax(numpy.abs(gfk))\n",
    "    while (gnorm > gtol) and (k < maxiter):\n",
    "        deltak = numpy.dot(gfk, gfk)\n",
    "        alpha_k = -np.dot(gfk, pk) / (np.dot(np.dot(pk,A.T ),pk))\n",
    "        xk = xk + alpha_k * pk\n",
    "        gfkp1 = np.dot(A, xk) + b\n",
    "        beta_k = max(0, numpy.dot(gfkp1, gfkp1) / deltak)\n",
    "        pk = -gfkp1 + beta_k * pk\n",
    "        gfk = gfkp1\n",
    "        gnorm=numpy.amax(numpy.abs(gfk))\n",
    "        k += 1\n",
    "\n",
    "    if warnflag == 0:\n",
    "        if disp:\n",
    "           print(\"Valores: \" , xk)\n",
    "           print(\"Iteraciones: %d\" % k)\n",
    "           print(\"Evaluacion: \" , f(A, xk, b))\n",
    "           print(\"Valor Actual x*: \",-np.dot(np.linalg.inv(A), b))\n",
    "           print(\"Valor de funcion actual f(x*): \",f(A,-np.dot(np.linalg.inv(A), b), b))\n",
    "\n",
    "if __name__ == '__main__':\n",
    "    x0 = [2, 1]\n",
    "    A = np.array([[4,1],[1,3]])\n",
    "    b = [-1,-2]\n",
    "    g0 = g(A,x0,b)\n",
    "    minimize_cg(A,b,x0,g0,disp=True,maxiter=100)"
   ],
   "metadata": {
    "collapsed": false,
    "pycharm": {
     "name": "#%%\n"
    }
   }
  }
 ],
 "metadata": {
  "kernelspec": {
   "display_name": "Python 3",
   "language": "python",
   "name": "python3"
  },
  "language_info": {
   "codemirror_mode": {
    "name": "ipython",
    "version": 2
   },
   "file_extension": ".py",
   "mimetype": "text/x-python",
   "name": "python",
   "nbconvert_exporter": "python",
   "pygments_lexer": "ipython2",
   "version": "2.7.6"
  }
 },
 "nbformat": 4,
 "nbformat_minor": 0
}